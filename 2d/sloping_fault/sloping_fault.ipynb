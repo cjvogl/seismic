{
 "cells": [
  {
   "cell_type": "code",
   "execution_count": 1,
   "metadata": {
    "collapsed": false,
    "deletable": true,
    "editable": true
   },
   "outputs": [],
   "source": [
    "%matplotlib inline\n",
    "from clawpack import pyclaw\n",
    "from clawpack import seismic\n",
    "from clawpack.seismic import elasticity_vc_mapped_fault_abl\n",
    "from clawpack.clawutil import data\n",
    "from clawpack.seismic.mappings import Mapping2D\n",
    "import clawpack.seismic.dtopotools_horiz_okada_and_1d as dtopotools\n",
    "import numpy as np\n",
    "\n",
    "num_dim = 2\n",
    "rundata = data.ClawRunData('amrclaw', num_dim)"
   ]
  },
  {
   "cell_type": "code",
   "execution_count": 2,
   "metadata": {
    "collapsed": false
   },
   "outputs": [],
   "source": [
    "!make sloping_fault.so > tmp\n",
    "import sloping_fault"
   ]
  },
  {
   "cell_type": "code",
   "execution_count": 3,
   "metadata": {
    "collapsed": true
   },
   "outputs": [],
   "source": [
    "from numpy import arange,cos,sin,pi,append,linspace\n",
    "from clawpack.geoclaw.data import LAT2METER\n",
    "\n",
    "fault = dtopotools.Fault(coordinate_specification='top center')\n",
    "fault.subfaults = []\n",
    "\n",
    "width = 50000.0\n",
    "theta = 0.20\n",
    "fault_top_center = [0.0,-20000.0]\n",
    "slip = 1.0\n",
    "mu = 3e10\n",
    "rupture_time = 0.0\n",
    "rise_time = 1.0\n",
    "nsubfaults = 1\n",
    "\n",
    "longitude0 = fault_top_center[0]/LAT2METER\n",
    "dlongitude = width*cos(theta)/LAT2METER / nsubfaults\n",
    "ddepth = width*sin(theta) / nsubfaults\n",
    "subfault_width = width/nsubfaults\n",
    "\n",
    "for i in range(nsubfaults):\n",
    "    subfault = dtopotools.SubFault()\n",
    "    subfault.mu = mu\n",
    "    subfault.dip = theta/pi*180.0\n",
    "    subfault.width = subfault_width\n",
    "    subfault.depth = -fault_top_center[1] + ddepth*i\n",
    "    subfault.slip = slip\n",
    "    subfault.rake = 90\n",
    "    subfault.strike = 0\n",
    "    subfault.length = 1000e3\n",
    "    subfault.longitude = longitude0 + dlongitude*i\n",
    "    subfault.latitude = 0.\n",
    "    subfault.coordinate_specification = 'top center'\n",
    "    subfault.rupture_time = rupture_time\n",
    "    subfault.rise_time = rise_time\n",
    "\n",
    "    fault.subfaults.append(subfault)\n",
    "\n",
    "fault.write('fault.data')"
   ]
  },
  {
   "cell_type": "code",
   "execution_count": 4,
   "metadata": {
    "collapsed": false
   },
   "outputs": [],
   "source": [
    "fault = dtopotools.Fault()\n",
    "fault.read('fault.data')\n",
    "\n",
    "mapping = Mapping2D(fault)\n",
    "fault_width = mapping.fault_width\n",
    "fault_depth = mapping.fault_depth\n",
    "fault_center = mapping.xcenter"
   ]
  },
  {
   "cell_type": "code",
   "execution_count": 5,
   "metadata": {
    "collapsed": true
   },
   "outputs": [],
   "source": [
    "solver = pyclaw.ClawSolver2D(elasticity_vc_mapped_fault_abl)"
   ]
  },
  {
   "cell_type": "code",
   "execution_count": 6,
   "metadata": {
    "collapsed": false
   },
   "outputs": [],
   "source": [
    "clawdata = rundata.clawdata  # initialized when rundata instantiated\n",
    "probdata = rundata.new_UserData(name='probdata',fname='setprob.data')\n",
    "probdata.add_param('abl_depth', 10e3, 'depth of absorbing layer')\n",
    "probdata.add_param('domain_depth', 50e3, 'depth of domain')\n",
    "probdata.add_param('domain_width', 300e3, 'width of domain')\n",
    "\n",
    "# ---------------\n",
    "# Spatial domain:\n",
    "# ---------------\n",
    "\n",
    "# Number of space dimensions:\n",
    "clawdata.num_dim = num_dim\n",
    "\n",
    "# Number of grid cells:\n",
    "num_cells_fault = 5\n",
    "dx = fault_width/num_cells_fault\n",
    "\n",
    "# determine cell number and set computational boundaries\n",
    "target_num_cells = np.rint(probdata.domain_width/dx)    # x direction\n",
    "num_cells_below = np.rint((target_num_cells - num_cells_fault)/2.0)\n",
    "num_cells_above = target_num_cells - num_cells_below - num_cells_fault\n",
    "clawdata.lower[0] = fault_center-0.5*fault_width - num_cells_below*dx\n",
    "clawdata.upper[0] = fault_center+0.5*fault_width + num_cells_above*dx\n",
    "clawdata.num_cells[0] = int(num_cells_below + num_cells_fault + num_cells_above)\n",
    "\n",
    "num_cells_above = np.rint(fault_depth/dx) # y direction\n",
    "dy = fault_depth/num_cells_above\n",
    "target_num_cells = np.rint(probdata.domain_depth/dy)\n",
    "num_cells_below = target_num_cells - num_cells_above\n",
    "clawdata.lower[1] = -fault_depth - num_cells_below*dy\n",
    "clawdata.upper[1] = 0.0\n",
    "clawdata.num_cells[1] = int(num_cells_below + num_cells_above)\n",
    "\n",
    "# add absorbing layer\n",
    "target_num_cells = np.rint(probdata.abl_depth/dx)\n",
    "clawdata.lower[0] -= target_num_cells*dx\n",
    "clawdata.upper[0] += target_num_cells*dx\n",
    "clawdata.num_cells[0] += 2*int(target_num_cells)\n",
    "target_num_cells = np.rint(probdata.abl_depth/dy)\n",
    "clawdata.lower[1] -= target_num_cells*dy\n",
    "clawdata.num_cells[1] += int(target_num_cells)\n",
    "\n",
    "# adjust probdata\n",
    "probdata.domain_width = clawdata.upper[0] - clawdata.lower[0]\n",
    "probdata.domain_depth = clawdata.upper[1] - clawdata.lower[1]\n",
    "\n",
    "sloping_fault.ablparam.abldepth = probdata.abl_depth\n",
    "sloping_fault.ablparam.ablxpos = np.array([clawdata.lower[0]+probdata.abl_depth,\n",
    "                                           clawdata.upper[0]-probdata.abl_depth])\n",
    "sloping_fault.ablparam.ablypos = clawdata.lower[1]+probdata.abl_depth"
   ]
  },
  {
   "cell_type": "code",
   "execution_count": 7,
   "metadata": {
    "collapsed": false
   },
   "outputs": [],
   "source": [
    "solver.num_waves = 4\n",
    "solver.num_eqn = 5\n",
    "num_aux = 15\n",
    "\n",
    "x = pyclaw.Dimension(clawdata.lower[0],clawdata.upper[0],clawdata.num_cells[0],name='x')\n",
    "z = pyclaw.Dimension(clawdata.lower[1],clawdata.upper[1],clawdata.num_cells[1],name='z')\n",
    "\n",
    "domain = pyclaw.Domain([x,z])\n",
    "grid = domain.grid\n",
    "state = pyclaw.State(domain,solver.num_eqn,num_aux)\n",
    "\n",
    "solver.bc_lower[0] = pyclaw.BC.extrap\n",
    "solver.bc_upper[0] = pyclaw.BC.extrap\n",
    "solver.bc_lower[1] = pyclaw.BC.extrap\n",
    "solver.bc_upper[1] = pyclaw.BC.wall\n",
    "\n",
    "solver.aux_bc_lower[0] = pyclaw.BC.extrap\n",
    "solver.aux_bc_upper[0] = pyclaw.BC.extrap\n",
    "solver.aux_bc_lower[1] = pyclaw.BC.extrap\n",
    "solver.aux_bc_upper[1] = pyclaw.BC.extrap\n",
    "\n",
    "state.q[:,:,:] = 0.\n",
    "\n",
    "mx = grid.x.num_cells\n",
    "mz = grid.z.num_cells"
   ]
  },
  {
   "cell_type": "code",
   "execution_count": 8,
   "metadata": {
    "collapsed": false
   },
   "outputs": [
    {
     "data": {
      "text/plain": [
       "  C_CONTIGUOUS : False\n",
       "  F_CONTIGUOUS : True\n",
       "  OWNDATA : True\n",
       "  WRITEABLE : True\n",
       "  ALIGNED : True\n",
       "  UPDATEIFCOPY : False"
      ]
     },
     "execution_count": 8,
     "metadata": {},
     "output_type": "execute_result"
    }
   ],
   "source": [
    "state.aux.flags"
   ]
  },
  {
   "cell_type": "code",
   "execution_count": 9,
   "metadata": {
    "collapsed": false
   },
   "outputs": [],
   "source": [
    "# Pretend num_ghost = 0 since state.aux doesn't have ghost cells\n",
    "\n",
    "state.aux[:,:,:] = sloping_fault.setaux(0,mx,mz,grid.x.lower,grid.z.lower,\n",
    "                           grid.x.delta,grid.z.delta,state.num_aux)"
   ]
  },
  {
   "cell_type": "code",
   "execution_count": 10,
   "metadata": {
    "collapsed": false
   },
   "outputs": [],
   "source": [
    "def set_slip(solver,state):\n",
    "    sloping_fault.b4step2(0,grid.x.num_cells,grid.z.num_cells,state.q,grid.x.lower,grid.z.lower,\n",
    "           grid.x.delta,grid.z.delta,state.t,solver.dt,\n",
    "           state.aux)\n",
    "solver.before_step = set_slip\n"
   ]
  },
  {
   "cell_type": "code",
   "execution_count": 11,
   "metadata": {
    "collapsed": false
   },
   "outputs": [
    {
     "data": {
      "text/plain": [
       "  C_CONTIGUOUS : False\n",
       "  F_CONTIGUOUS : True\n",
       "  OWNDATA : True\n",
       "  WRITEABLE : True\n",
       "  ALIGNED : True\n",
       "  UPDATEIFCOPY : False"
      ]
     },
     "execution_count": 11,
     "metadata": {},
     "output_type": "execute_result"
    }
   ],
   "source": [
    "state.aux.flags"
   ]
  },
  {
   "cell_type": "code",
   "execution_count": 12,
   "metadata": {
    "collapsed": true
   },
   "outputs": [],
   "source": [
    "claw = pyclaw.Controller()\n",
    "claw.tfinal = 100\n",
    "claw.solution = pyclaw.Solution(state,domain)\n",
    "claw.solver = solver\n",
    "claw.keep_copy = True\n",
    "claw.num_output_times = 50"
   ]
  },
  {
   "cell_type": "code",
   "execution_count": 13,
   "metadata": {
    "collapsed": true
   },
   "outputs": [],
   "source": [
    "sloping_fault.fault_module.load_fault('fault.data',nsubfaults)"
   ]
  },
  {
   "cell_type": "code",
   "execution_count": 14,
   "metadata": {
    "collapsed": false
   },
   "outputs": [
    {
     "data": {
      "text/plain": [
       "  C_CONTIGUOUS : False\n",
       "  F_CONTIGUOUS : True\n",
       "  OWNDATA : True\n",
       "  WRITEABLE : True\n",
       "  ALIGNED : True\n",
       "  UPDATEIFCOPY : False"
      ]
     },
     "execution_count": 14,
     "metadata": {},
     "output_type": "execute_result"
    }
   ],
   "source": [
    "state.aux.flags"
   ]
  },
  {
   "cell_type": "code",
   "execution_count": 15,
   "metadata": {
    "collapsed": false
   },
   "outputs": [],
   "source": [
    "set_slip(solver,state)"
   ]
  },
  {
   "cell_type": "code",
   "execution_count": 16,
   "metadata": {
    "collapsed": false
   },
   "outputs": [
    {
     "data": {
      "text/plain": [
       "  C_CONTIGUOUS : False\n",
       "  F_CONTIGUOUS : True\n",
       "  OWNDATA : True\n",
       "  WRITEABLE : True\n",
       "  ALIGNED : True\n",
       "  UPDATEIFCOPY : False"
      ]
     },
     "execution_count": 16,
     "metadata": {},
     "output_type": "execute_result"
    }
   ],
   "source": [
    "state.aux.flags"
   ]
  },
  {
   "cell_type": "code",
   "execution_count": 17,
   "metadata": {
    "collapsed": false
   },
   "outputs": [
    {
     "name": "stdout",
     "output_type": "stream",
     "text": [
      "2017-03-07 17:11:45,009 INFO CLAW: Solution 0 computed for time t=0.000000\n",
      "before riemann\n",
      "  C_CONTIGUOUS : False\n",
      "  F_CONTIGUOUS : True\n",
      "  OWNDATA : True\n",
      "  WRITEABLE : True\n",
      "  ALIGNED : True\n",
      "  UPDATEIFCOPY : False\n",
      "after riemann\n",
      "  C_CONTIGUOUS : False\n",
      "  F_CONTIGUOUS : False\n",
      "  OWNDATA : False\n",
      "  WRITEABLE : True\n",
      "  ALIGNED : True\n",
      "  UPDATEIFCOPY : False\n"
     ]
    },
    {
     "ename": "ValueError",
     "evalue": "failed to initialize intent(inout) array -- input not fortran contiguous",
     "output_type": "error",
     "traceback": [
      "\u001b[0;31m---------------------------------------------------------------------------\u001b[0m",
      "\u001b[0;31mValueError\u001b[0m                                Traceback (most recent call last)",
      "\u001b[0;32m<ipython-input-17-5f3361a95df1>\u001b[0m in \u001b[0;36m<module>\u001b[0;34m()\u001b[0m\n\u001b[0;32m----> 1\u001b[0;31m \u001b[0mclaw\u001b[0m\u001b[0;34m.\u001b[0m\u001b[0mrun\u001b[0m\u001b[0;34m(\u001b[0m\u001b[0;34m)\u001b[0m\u001b[0;34m\u001b[0m\u001b[0m\n\u001b[0m",
      "\u001b[0;32m/Users/ketch/Research/Software/clawpack/clawpack/pyclaw/controller.pyc\u001b[0m in \u001b[0;36mrun\u001b[0;34m(self)\u001b[0m\n\u001b[1;32m    361\u001b[0m         \u001b[0;32mfor\u001b[0m \u001b[0mt\u001b[0m \u001b[0;32min\u001b[0m \u001b[0moutput_times\u001b[0m\u001b[0;34m[\u001b[0m\u001b[0;36m1\u001b[0m\u001b[0;34m:\u001b[0m\u001b[0;34m]\u001b[0m\u001b[0;34m:\u001b[0m\u001b[0;34m\u001b[0m\u001b[0m\n\u001b[1;32m    362\u001b[0m             \u001b[0;32mif\u001b[0m \u001b[0mself\u001b[0m\u001b[0;34m.\u001b[0m\u001b[0moutput_style\u001b[0m \u001b[0;34m<\u001b[0m \u001b[0;36m3\u001b[0m\u001b[0;34m:\u001b[0m\u001b[0;34m\u001b[0m\u001b[0m\n\u001b[0;32m--> 363\u001b[0;31m                 \u001b[0mstatus\u001b[0m \u001b[0;34m=\u001b[0m \u001b[0mself\u001b[0m\u001b[0;34m.\u001b[0m\u001b[0msolver\u001b[0m\u001b[0;34m.\u001b[0m\u001b[0mevolve_to_time\u001b[0m\u001b[0;34m(\u001b[0m\u001b[0mself\u001b[0m\u001b[0;34m.\u001b[0m\u001b[0msolution\u001b[0m\u001b[0;34m,\u001b[0m\u001b[0mt\u001b[0m\u001b[0;34m)\u001b[0m\u001b[0;34m\u001b[0m\u001b[0m\n\u001b[0m\u001b[1;32m    364\u001b[0m             \u001b[0;32melse\u001b[0m\u001b[0;34m:\u001b[0m\u001b[0;34m\u001b[0m\u001b[0m\n\u001b[1;32m    365\u001b[0m                 \u001b[0;31m# Take nstepout steps and output\u001b[0m\u001b[0;34m\u001b[0m\u001b[0;34m\u001b[0m\u001b[0m\n",
      "\u001b[0;32m/Users/ketch/Research/Software/clawpack/clawpack/pyclaw/solver.pyc\u001b[0m in \u001b[0;36mevolve_to_time\u001b[0;34m(self, solution, tend)\u001b[0m\n\u001b[1;32m    609\u001b[0m \u001b[0;34m\u001b[0m\u001b[0m\n\u001b[1;32m    610\u001b[0m             \u001b[0;32mif\u001b[0m \u001b[0mself\u001b[0m\u001b[0;34m.\u001b[0m\u001b[0mbefore_step\u001b[0m \u001b[0;32mis\u001b[0m \u001b[0;32mnot\u001b[0m \u001b[0mNone\u001b[0m\u001b[0;34m:\u001b[0m\u001b[0;34m\u001b[0m\u001b[0m\n\u001b[0;32m--> 611\u001b[0;31m                 \u001b[0mself\u001b[0m\u001b[0;34m.\u001b[0m\u001b[0mbefore_step\u001b[0m\u001b[0;34m(\u001b[0m\u001b[0mself\u001b[0m\u001b[0;34m,\u001b[0m\u001b[0msolution\u001b[0m\u001b[0;34m.\u001b[0m\u001b[0mstates\u001b[0m\u001b[0;34m[\u001b[0m\u001b[0;36m0\u001b[0m\u001b[0;34m]\u001b[0m\u001b[0;34m)\u001b[0m\u001b[0;34m\u001b[0m\u001b[0m\n\u001b[0m\u001b[1;32m    612\u001b[0m \u001b[0;34m\u001b[0m\u001b[0m\n\u001b[1;32m    613\u001b[0m             \u001b[0;31m# Note that the solver may alter dt during the step() routine\u001b[0m\u001b[0;34m\u001b[0m\u001b[0;34m\u001b[0m\u001b[0m\n",
      "\u001b[0;32m<ipython-input-10-218913b0fb8b>\u001b[0m in \u001b[0;36mset_slip\u001b[0;34m(solver, state)\u001b[0m\n\u001b[1;32m      2\u001b[0m     sloping_fault.b4step2(0,grid.x.num_cells,grid.z.num_cells,state.q,grid.x.lower,grid.z.lower,\n\u001b[1;32m      3\u001b[0m            \u001b[0mgrid\u001b[0m\u001b[0;34m.\u001b[0m\u001b[0mx\u001b[0m\u001b[0;34m.\u001b[0m\u001b[0mdelta\u001b[0m\u001b[0;34m,\u001b[0m\u001b[0mgrid\u001b[0m\u001b[0;34m.\u001b[0m\u001b[0mz\u001b[0m\u001b[0;34m.\u001b[0m\u001b[0mdelta\u001b[0m\u001b[0;34m,\u001b[0m\u001b[0mstate\u001b[0m\u001b[0;34m.\u001b[0m\u001b[0mt\u001b[0m\u001b[0;34m,\u001b[0m\u001b[0msolver\u001b[0m\u001b[0;34m.\u001b[0m\u001b[0mdt\u001b[0m\u001b[0;34m,\u001b[0m\u001b[0;34m\u001b[0m\u001b[0m\n\u001b[0;32m----> 4\u001b[0;31m            state.aux)\n\u001b[0m\u001b[1;32m      5\u001b[0m \u001b[0msolver\u001b[0m\u001b[0;34m.\u001b[0m\u001b[0mbefore_step\u001b[0m \u001b[0;34m=\u001b[0m \u001b[0mset_slip\u001b[0m\u001b[0;34m\u001b[0m\u001b[0m\n",
      "\u001b[0;31mValueError\u001b[0m: failed to initialize intent(inout) array -- input not fortran contiguous"
     ]
    }
   ],
   "source": [
    "claw.run()"
   ]
  },
  {
   "cell_type": "code",
   "execution_count": null,
   "metadata": {
    "collapsed": false
   },
   "outputs": [],
   "source": [
    "state.aux.flags"
   ]
  },
  {
   "cell_type": "code",
   "execution_count": 18,
   "metadata": {
    "collapsed": false
   },
   "outputs": [
    {
     "data": {
      "text/plain": [
       "2"
      ]
     },
     "execution_count": 18,
     "metadata": {},
     "output_type": "execute_result"
    }
   ],
   "source": [
    "solver.num_ghost"
   ]
  },
  {
   "cell_type": "code",
   "execution_count": null,
   "metadata": {
    "collapsed": true
   },
   "outputs": [],
   "source": []
  }
 ],
 "metadata": {
  "kernelspec": {
   "display_name": "Python 2",
   "language": "python",
   "name": "python2"
  },
  "language_info": {
   "codemirror_mode": {
    "name": "ipython",
    "version": 2
   },
   "file_extension": ".py",
   "mimetype": "text/x-python",
   "name": "python",
   "nbconvert_exporter": "python",
   "pygments_lexer": "ipython2",
   "version": "2.7.13"
  }
 },
 "nbformat": 4,
 "nbformat_minor": 2
}
