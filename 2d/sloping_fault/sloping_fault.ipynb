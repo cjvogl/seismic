{
 "cells": [
  {
   "cell_type": "code",
   "execution_count": 1,
   "metadata": {
    "collapsed": false,
    "deletable": true,
    "editable": true
   },
   "outputs": [],
   "source": [
    "%matplotlib inline\n",
    "from clawpack import pyclaw\n",
    "from clawpack import seismic\n",
    "from clawpack.clawutil import data\n",
    "from clawpack.seismic.mappings import Mapping2D\n",
    "import clawpack.seismic.dtopotools_horiz_okada_and_1d as dtopotools\n",
    "import numpy as np\n",
    "from clawpack.visclaw.ianimate import ianimate\n",
    "\n",
    "num_dim = 2\n",
    "rundata = data.ClawRunData('amrclaw', num_dim)"
   ]
  },
  {
   "cell_type": "code",
   "execution_count": 2,
   "metadata": {
    "collapsed": false,
    "deletable": true,
    "editable": true
   },
   "outputs": [],
   "source": [
    "!make elasticity_vc_mapped_fault_abl.so > tmp\n",
    "import elasticity_vc_mapped_fault_abl\n",
    "!make sloping_fault.so > tmp\n",
    "import sloping_fault"
   ]
  },
  {
   "cell_type": "code",
   "execution_count": 3,
   "metadata": {
    "collapsed": true,
    "deletable": true,
    "editable": true
   },
   "outputs": [],
   "source": [
    "from numpy import arange,cos,sin,pi,append,linspace\n",
    "from clawpack.geoclaw.data import LAT2METER\n",
    "\n",
    "fault = dtopotools.Fault(coordinate_specification='top center')\n",
    "fault.subfaults = []\n",
    "\n",
    "width = 50000.0\n",
    "theta = 0.20\n",
    "fault_top_center = [0.0,-20000.0]\n",
    "slip = 1.0\n",
    "mu = 3e10\n",
    "rupture_time = 0.0\n",
    "rise_time = 1.0\n",
    "nsubfaults = 1 #nsubfaults is statically set in fault_module\n",
    "\n",
    "longitude0 = fault_top_center[0]/LAT2METER\n",
    "dlongitude = width*cos(theta)/LAT2METER / nsubfaults\n",
    "ddepth = width*sin(theta) / nsubfaults\n",
    "subfault_width = width/nsubfaults\n",
    "\n",
    "for i in range(nsubfaults):\n",
    "    subfault = dtopotools.SubFault()\n",
    "    subfault.mu = mu\n",
    "    subfault.dip = theta/pi*180.0\n",
    "    subfault.width = subfault_width\n",
    "    subfault.depth = -fault_top_center[1] + ddepth*i\n",
    "    subfault.slip = slip\n",
    "    subfault.rake = 90\n",
    "    subfault.strike = 0\n",
    "    subfault.length = 1000e3\n",
    "    subfault.longitude = longitude0 + dlongitude*i\n",
    "    subfault.latitude = 0.\n",
    "    subfault.coordinate_specification = 'top center'\n",
    "    subfault.rupture_time = rupture_time\n",
    "    subfault.rise_time = rise_time\n",
    "\n",
    "    fault.subfaults.append(subfault)\n",
    "\n",
    "fault.write('fault.data')"
   ]
  },
  {
   "cell_type": "code",
   "execution_count": 4,
   "metadata": {
    "collapsed": true
   },
   "outputs": [],
   "source": [
    "sloping_fault.fault_module.load_fault('fault.data')"
   ]
  },
  {
   "cell_type": "code",
   "execution_count": 5,
   "metadata": {
    "collapsed": false,
    "deletable": true,
    "editable": true
   },
   "outputs": [],
   "source": [
    "fault = dtopotools.Fault()\n",
    "fault.read('fault.data')\n",
    "\n",
    "mapping = Mapping2D(fault)\n",
    "fault_width = mapping.fault_width\n",
    "fault_depth = mapping.fault_depth\n",
    "fault_center = mapping.xcenter"
   ]
  },
  {
   "cell_type": "code",
   "execution_count": 6,
   "metadata": {
    "collapsed": false,
    "deletable": true,
    "editable": true
   },
   "outputs": [],
   "source": [
    "clawdata = rundata.clawdata  # initialized when rundata instantiated\n",
    "probdata = rundata.new_UserData(name='probdata',fname='setprob.data')\n",
    "probdata.add_param('abl_depth', 10e3, 'depth of absorbing layer')\n",
    "probdata.add_param('domain_depth', 50e3, 'depth of domain')\n",
    "probdata.add_param('domain_width', 300e3, 'width of domain')\n",
    "\n",
    "# ---------------\n",
    "# Spatial domain:\n",
    "# ---------------\n",
    "\n",
    "# Number of space dimensions:\n",
    "clawdata.num_dim = num_dim\n",
    "\n",
    "# Number of grid cells:\n",
    "num_cells_fault = 320 #(5*8*8)\n",
    "dx = fault_width/num_cells_fault\n",
    "\n",
    "# determine cell number and set computational boundaries\n",
    "target_num_cells = np.rint(probdata.domain_width/dx)    # x direction\n",
    "num_cells_below = np.rint((target_num_cells - num_cells_fault)/2.0)\n",
    "num_cells_above = target_num_cells - num_cells_below - num_cells_fault\n",
    "clawdata.lower[0] = fault_center-0.5*fault_width - num_cells_below*dx\n",
    "clawdata.upper[0] = fault_center+0.5*fault_width + num_cells_above*dx\n",
    "clawdata.num_cells[0] = int(num_cells_below + num_cells_fault + num_cells_above)\n",
    "\n",
    "num_cells_above = np.rint(fault_depth/dx) # y direction\n",
    "dy = fault_depth/num_cells_above\n",
    "target_num_cells = np.rint(probdata.domain_depth/dy)\n",
    "num_cells_below = target_num_cells - num_cells_above\n",
    "clawdata.lower[1] = -fault_depth - num_cells_below*dy\n",
    "clawdata.upper[1] = 0.0\n",
    "clawdata.num_cells[1] = int(num_cells_below + num_cells_above)\n",
    "\n",
    "# add absorbing layer\n",
    "target_num_cells = np.rint(probdata.abl_depth/dx)\n",
    "clawdata.lower[0] -= target_num_cells*dx\n",
    "clawdata.upper[0] += target_num_cells*dx\n",
    "clawdata.num_cells[0] += 2*int(target_num_cells)\n",
    "target_num_cells = np.rint(probdata.abl_depth/dy)\n",
    "clawdata.lower[1] -= target_num_cells*dy\n",
    "clawdata.num_cells[1] += int(target_num_cells)\n",
    "\n",
    "# adjust probdata\n",
    "probdata.domain_width = clawdata.upper[0] - clawdata.lower[0]\n",
    "probdata.domain_depth = clawdata.upper[1] - clawdata.lower[1]\n",
    "\n",
    "sloping_fault.ablparam.abldepth = probdata.abl_depth\n",
    "sloping_fault.ablparam.ablxpos = np.array([clawdata.lower[0]+probdata.abl_depth,\n",
    "                                           clawdata.upper[0]-probdata.abl_depth])\n",
    "sloping_fault.ablparam.ablypos = clawdata.lower[1]+probdata.abl_depth"
   ]
  },
  {
   "cell_type": "code",
   "execution_count": 7,
   "metadata": {
    "collapsed": false,
    "deletable": true,
    "editable": true
   },
   "outputs": [],
   "source": [
    "solver = pyclaw.ClawSolver2D(elasticity_vc_mapped_fault_abl)\n",
    "\n",
    "solver.num_waves = 4\n",
    "solver.num_eqn = 5\n",
    "num_aux = 16\n",
    "\n",
    "x = pyclaw.Dimension(clawdata.lower[0],clawdata.upper[0],clawdata.num_cells[0],name='x')\n",
    "z = pyclaw.Dimension(clawdata.lower[1],clawdata.upper[1],clawdata.num_cells[1],name='z')\n",
    "\n",
    "domain = pyclaw.Domain([x,z])\n",
    "grid = domain.grid\n",
    "state = pyclaw.State(domain,solver.num_eqn,num_aux)\n",
    "\n",
    "solver.bc_lower[0] = pyclaw.BC.extrap\n",
    "solver.bc_upper[0] = pyclaw.BC.extrap\n",
    "solver.bc_lower[1] = pyclaw.BC.extrap\n",
    "solver.bc_upper[1] = pyclaw.BC.wall\n",
    "\n",
    "solver.aux_bc_lower[0] = pyclaw.BC.extrap\n",
    "solver.aux_bc_upper[0] = pyclaw.BC.extrap\n",
    "solver.aux_bc_lower[1] = pyclaw.BC.extrap\n",
    "solver.aux_bc_upper[1] = pyclaw.BC.extrap\n",
    "\n",
    "state.q[:,:,:] = 0.\n",
    "\n",
    "mx = grid.x.num_cells\n",
    "mz = grid.z.num_cells"
   ]
  },
  {
   "cell_type": "code",
   "execution_count": 8,
   "metadata": {
    "collapsed": false,
    "deletable": true,
    "editable": true
   },
   "outputs": [],
   "source": [
    "# Pretend num_ghost = 0 since state.aux doesn't have ghost cells\n",
    "state.aux[:,:,:] = sloping_fault.setaux(0,mx,mz,grid.x.lower,grid.z.lower,\n",
    "                           grid.x.delta,grid.z.delta,state.num_aux)"
   ]
  },
  {
   "cell_type": "code",
   "execution_count": 9,
   "metadata": {
    "collapsed": false,
    "deletable": true,
    "editable": true
   },
   "outputs": [],
   "source": [
    "def set_slip(solver,state):\n",
    "    import copy\n",
    "    aux = state.aux.copy(order='F')\n",
    "    sloping_fault.b4step2(0,grid.x.num_cells,grid.z.num_cells,state.q,grid.x.lower,grid.z.lower,\n",
    "           grid.x.delta,grid.z.delta,state.t,solver.dt,\n",
    "           aux)\n",
    "    state.aux[:,:,:] = aux[:,:,:]\n",
    "solver.before_step = set_slip"
   ]
  },
  {
   "cell_type": "code",
   "execution_count": 10,
   "metadata": {
    "collapsed": true,
    "deletable": true,
    "editable": true
   },
   "outputs": [],
   "source": [
    "claw = pyclaw.Controller()\n",
    "claw.tfinal = 100\n",
    "claw.solution = pyclaw.Solution(state,domain)\n",
    "claw.solver = solver\n",
    "claw.keep_copy = True\n",
    "claw.num_output_times = 50"
   ]
  },
  {
   "cell_type": "code",
   "execution_count": null,
   "metadata": {
    "collapsed": false,
    "deletable": true,
    "editable": true
   },
   "outputs": [],
   "source": [
    "set_slip(solver,state)"
   ]
  },
  {
   "cell_type": "code",
   "execution_count": null,
   "metadata": {
    "collapsed": false,
    "deletable": true,
    "editable": true
   },
   "outputs": [
    {
     "name": "stdout",
     "output_type": "stream",
     "text": [
      "2017-03-22 16:20:15,218 INFO CLAW: Solution 0 computed for time t=0.000000\n"
     ]
    }
   ],
   "source": [
    "claw.run()"
   ]
  },
  {
   "cell_type": "code",
   "execution_count": null,
   "metadata": {
    "collapsed": false,
    "deletable": true,
    "editable": true
   },
   "outputs": [],
   "source": [
    "#ianimate(claw)"
   ]
  }
 ],
 "metadata": {
  "kernelspec": {
   "display_name": "Python 2",
   "language": "python",
   "name": "python2"
  },
  "language_info": {
   "codemirror_mode": {
    "name": "ipython",
    "version": 2
   },
   "file_extension": ".py",
   "mimetype": "text/x-python",
   "name": "python",
   "nbconvert_exporter": "python",
   "pygments_lexer": "ipython2",
   "version": "2.7.6"
  }
 },
 "nbformat": 4,
 "nbformat_minor": 2
}
